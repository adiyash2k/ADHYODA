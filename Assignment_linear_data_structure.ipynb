{
 "cells": [
  {
   "cell_type": "code",
   "execution_count": 5,
   "id": "05d3fa10",
   "metadata": {},
   "outputs": [
    {
     "name": "stdout",
     "output_type": "stream",
     "text": [
      "Enter the integer array (space-separated): 2 4 5 6 7\n",
      "Enter the target sum: 12\n",
      "Pairs with the given sum:\n",
      "(7, 5)\n"
     ]
    }
   ],
   "source": [
    "#Q1. Write a program to find all pairs of an integer array whose sum is equal to a given number?\n",
    "def find_pairs_with_sum(arr, target_sum):\n",
    "    pairs = []\n",
    "    seen_numbers = set()\n",
    "\n",
    "    for num in arr:\n",
    "        complement = target_sum - num\n",
    "        if complement in seen_numbers:\n",
    "            pairs.append((num, complement))\n",
    "        seen_numbers.add(num)\n",
    "\n",
    "    return pairs\n",
    "try:\n",
    "    arr = list(map(int, input(\"Enter the integer array (space-separated): \").split()))\n",
    "    target_sum = int(input(\"Enter the target sum: \"))\n",
    "    \n",
    "    pairs = find_pairs_with_sum(arr, target_sum)\n",
    "    \n",
    "    if pairs:\n",
    "        print(\"Pairs with the given sum:\")\n",
    "        for pair in pairs:\n",
    "            print(pair)\n",
    "    else:\n",
    "        print(\"No pairs found with the given sum.\")\n",
    "\n",
    "except ValueError:\n",
    "    print(\"Invalid input. Please enter a valid integer array and target sum.\")\n"
   ]
  },
  {
   "cell_type": "code",
   "execution_count": 6,
   "id": "306a067f",
   "metadata": {},
   "outputs": [
    {
     "name": "stdout",
     "output_type": "stream",
     "text": [
      "Enter the integer array (space-separated): 2 4 5 6 7\n",
      "Reversed array: [7, 6, 5, 4, 2]\n"
     ]
    }
   ],
   "source": [
    "#Q2. Write a program to reverse an array in place? In place means you cannot create a new array. You have to update the original array\n",
    "def reverse_array_in_place(arr):\n",
    "    start = 0\n",
    "    end = len(arr) - 1\n",
    "    \n",
    "    while start < end:\n",
    "        arr[start], arr[end] = arr[end], arr[start]\n",
    "        start += 1\n",
    "        end -= 1\n",
    "try:\n",
    "    arr = list(map(int, input(\"Enter the integer array (space-separated): \").split()))\n",
    "    \n",
    "    reverse_array_in_place(arr)\n",
    "    \n",
    "    print(\"Reversed array:\", arr)\n",
    "\n",
    "except ValueError:\n",
    "    print(\"Invalid input. Please enter a valid integer array.\")\n"
   ]
  },
  {
   "cell_type": "code",
   "execution_count": 8,
   "id": "88a44ea9",
   "metadata": {},
   "outputs": [
    {
     "name": "stdout",
     "output_type": "stream",
     "text": [
      "Enter the first string: aditya\n",
      "Enter the second string: aditya\n",
      "The two strings are rotations of each other.\n"
     ]
    }
   ],
   "source": [
    "#Q3. Write a program to check if two strings are a rotation of each other?\n",
    "def are_rotations(str1, str2):\n",
    "    if len(str1) != len(str2):\n",
    "        return False\n",
    "    \n",
    "    concatenated = str1 + str1\n",
    "    if str2 in concatenated:\n",
    "        return True\n",
    "    return False\n",
    "try:\n",
    "    str1 = input(\"Enter the first string: \")\n",
    "    str2 = input(\"Enter the second string: \")\n",
    "    \n",
    "    if are_rotations(str1, str2):\n",
    "        print(\"The two strings are rotations of each other.\")\n",
    "    else:\n",
    "        print(\"The two strings are not rotations of each other.\")\n",
    "\n",
    "except ValueError:\n",
    "    print(\"Invalid input. Please enter valid strings.\")\n"
   ]
  },
  {
   "cell_type": "code",
   "execution_count": 11,
   "id": "1c8352f1",
   "metadata": {},
   "outputs": [
    {
     "name": "stdout",
     "output_type": "stream",
     "text": [
      "Enter a string: aditya\n",
      "The first non-repeated character: d\n"
     ]
    }
   ],
   "source": [
    "#Q4. First Non-Repeated Character:\n",
    "def first_non_repeated_char(s):\n",
    "    char_count = {}\n",
    "    \n",
    "    for char in s:\n",
    "        char_count[char] = char_count.get(char, 0) + 1\n",
    "        \n",
    "    for char in s:\n",
    "        if char_count[char] == 1:\n",
    "            return char\n",
    "    \n",
    "    return None\n",
    "\n",
    "try:\n",
    "    s = input(\"Enter a string: \")\n",
    "    result = first_non_repeated_char(s)\n",
    "    \n",
    "    if result:\n",
    "        print(\"The first non-repeated character:\", result)\n",
    "    else:\n",
    "        print(\"No non-repeated character found.\")\n",
    "        \n",
    "except ValueError:\n",
    "    print(\"Invalid input. Please enter a valid string.\")\n"
   ]
  },
  {
   "cell_type": "code",
   "execution_count": 12,
   "id": "0133a05a",
   "metadata": {},
   "outputs": [
    {
     "name": "stdout",
     "output_type": "stream",
     "text": [
      "Enter the number of disks: 3\n",
      "Move disk 1 from A to C\n",
      "Move disk 2 from A to B\n",
      "Move disk 1 from C to B\n",
      "Move disk 3 from A to C\n",
      "Move disk 1 from B to A\n",
      "Move disk 2 from B to C\n",
      "Move disk 1 from A to C\n"
     ]
    }
   ],
   "source": [
    "#Q5. Tower of Hanoi:\n",
    "def tower_of_hanoi(n, source, auxiliary, target):\n",
    "    if n > 0:\n",
    "        tower_of_hanoi(n - 1, source, target, auxiliary)\n",
    "        print(f\"Move disk {n} from {source} to {target}\")\n",
    "        tower_of_hanoi(n - 1, auxiliary, source, target)\n",
    "\n",
    "try:\n",
    "    n = int(input(\"Enter the number of disks: \"))\n",
    "    tower_of_hanoi(n, 'A', 'B', 'C')\n",
    "    \n",
    "except ValueError:\n",
    "    print(\"Invalid input. Please enter a valid integer.\")\n"
   ]
  },
  {
   "cell_type": "code",
   "execution_count": 17,
   "id": "6423437a",
   "metadata": {},
   "outputs": [
    {
     "name": "stdout",
     "output_type": "stream",
     "text": [
      "Enter the postfix expression: adity\n",
      "Prefix expression: y\n"
     ]
    }
   ],
   "source": [
    "#Q6. Postfix to Prefix Conversion:\n",
    "def postfix_to_prefix(postfix):\n",
    "    stack = []\n",
    "    \n",
    "    for char in postfix:\n",
    "        if char.isalnum():\n",
    "            stack.append(char)\n",
    "        else:\n",
    "            operand2 = stack.pop()\n",
    "            operand1 = stack.pop()\n",
    "            expression = char + operand1 + operand2\n",
    "            stack.append(expression)\n",
    "            \n",
    "    return stack.pop()\n",
    "\n",
    "try:\n",
    "    postfix_expr = input(\"Enter the postfix expression: \")\n",
    "    prefix_expr = postfix_to_prefix(postfix_expr)\n",
    "    print(\"Prefix expression:\", prefix_expr)\n",
    "    \n",
    "except ValueError:\n",
    "    print(\"Invalid input. Please enter a valid postfix expression.\")\n"
   ]
  },
  {
   "cell_type": "code",
   "execution_count": 15,
   "id": "4d20e245",
   "metadata": {},
   "outputs": [
    {
     "name": "stdout",
     "output_type": "stream",
     "text": [
      "Enter the prefix expression: yash\n",
      "Infix expression: y\n"
     ]
    }
   ],
   "source": [
    "#Q7. Prefix to Infix Conversion:\n",
    "def prefix_to_infix(prefix):\n",
    "    stack = []\n",
    "    \n",
    "    for char in reversed(prefix):\n",
    "        if char.isalnum():\n",
    "            stack.append(char)\n",
    "        else:\n",
    "            operand1 = stack.pop()\n",
    "            operand2 = stack.pop()\n",
    "            expression = f\"({operand1}{char}{operand2})\"\n",
    "            stack.append(expression)\n",
    "            \n",
    "    return stack.pop()\n",
    "\n",
    "try:\n",
    "    prefix_expr = input(\"Enter the prefix expression: \")\n",
    "    infix_expr = prefix_to_infix(prefix_expr)\n",
    "    print(\"Infix expression:\", infix_expr)\n",
    "    \n",
    "except ValueError:\n",
    "    print(\"Invalid input. Please enter a valid prefix expression.\")\n"
   ]
  },
  {
   "cell_type": "code",
   "execution_count": 19,
   "id": "435f3e94",
   "metadata": {},
   "outputs": [
    {
     "name": "stdout",
     "output_type": "stream",
     "text": [
      "Enter the code snippet: ([{}])\n",
      "All brackets are closed properly.\n"
     ]
    }
   ],
   "source": [
    "#Q8. Check Balanced Brackets:\n",
    "def are_brackets_balanced(s):\n",
    "    stack = []\n",
    "    brackets = {')': '(', '}': '{', ']': '['}\n",
    "    \n",
    "    for char in s:\n",
    "        if char in brackets.values():\n",
    "            stack.append(char)\n",
    "        elif char in brackets.keys():\n",
    "            if not stack or stack.pop() != brackets[char]:\n",
    "                return False\n",
    "                \n",
    "    return not stack\n",
    "\n",
    "try:\n",
    "    code_snippet = input(\"Enter the code snippet: \")\n",
    "    if are_brackets_balanced(code_snippet):\n",
    "        print(\"All brackets are closed properly.\")\n",
    "    else:\n",
    "        print(\"Not all brackets are closed properly.\")\n",
    "    \n",
    "except ValueError:\n",
    "    print(\"Invalid input. Please enter a valid code snippet.\")\n"
   ]
  },
  {
   "cell_type": "code",
   "execution_count": 20,
   "id": "33170207",
   "metadata": {},
   "outputs": [
    {
     "name": "stdout",
     "output_type": "stream",
     "text": [
      "Enter the elements of the stack (space-separated): 2 4 5 6 7 8 9\n",
      "Reversed stack: ['9', '8', '7', '6', '5', '4', '2']\n"
     ]
    }
   ],
   "source": [
    "#Q9. Reverse a Stack:\n",
    "class Stack:\n",
    "    def __init__(self):\n",
    "        self.items = []\n",
    "        \n",
    "    def push(self, item):\n",
    "        self.items.append(item)\n",
    "        \n",
    "    def pop(self):\n",
    "        if not self.is_empty():\n",
    "            return self.items.pop()\n",
    "        \n",
    "    def is_empty(self):\n",
    "        return len(self.items) == 0\n",
    "\n",
    "def reverse_stack(stack):\n",
    "    if stack.is_empty():\n",
    "        return\n",
    "    \n",
    "    temp = stack.pop()\n",
    "    reverse_stack(stack)\n",
    "    insert_at_bottom(stack, temp)\n",
    "    \n",
    "def insert_at_bottom(stack, item):\n",
    "    if stack.is_empty():\n",
    "        stack.push(item)\n",
    "    else:\n",
    "        temp = stack.pop()\n",
    "        insert_at_bottom(stack, item)\n",
    "        stack.push(temp)\n",
    "\n",
    "try:\n",
    "    stack = Stack()\n",
    "    elements = input(\"Enter the elements of the stack (space-separated): \").split()\n",
    "    \n",
    "    for element in elements:\n",
    "        stack.push(element)\n",
    "    \n",
    "    reverse_stack(stack)\n",
    "    print(\"Reversed stack:\", stack.items)\n",
    "    \n",
    "except ValueError:\n",
    "    print(\"Invalid input. Please enter valid elements for the stack.\")\n"
   ]
  },
  {
   "cell_type": "code",
   "execution_count": 21,
   "id": "7a24eb13",
   "metadata": {},
   "outputs": [
    {
     "name": "stdout",
     "output_type": "stream",
     "text": [
      "Enter the elements of the stack (space-separated integers): 2 4 5 6 7 8 9\n",
      "Smallest number in the stack: 2\n"
     ]
    }
   ],
   "source": [
    "#Q10. Find Smallest Number Using a Stack:\n",
    "class Stack:\n",
    "    def __init__(self):\n",
    "        self.items = []\n",
    "        \n",
    "    def push(self, item):\n",
    "        self.items.append(item)\n",
    "        \n",
    "    def pop(self):\n",
    "        if not self.is_empty():\n",
    "            return self.items.pop()\n",
    "        \n",
    "    def is_empty(self):\n",
    "        return len(self.items) == 0\n",
    "\n",
    "def find_smallest(stack):\n",
    "    if stack.is_empty():\n",
    "        return None\n",
    "    \n",
    "    smallest = stack.pop()\n",
    "    while not stack.is_empty():\n",
    "        item = stack.pop()\n",
    "        if item < smallest:\n",
    "            smallest = item\n",
    "    return smallest\n",
    "\n",
    "try:\n",
    "    stack = Stack()\n",
    "    elements = list(map(int, input(\"Enter the elements of the stack (space-separated integers): \").split()))\n",
    "    \n",
    "    for element in elements:\n",
    "        stack.push(element)\n",
    "    \n",
    "    smallest = find_smallest(stack)\n",
    "    if smallest is not None:\n",
    "        print(\"Smallest number in the stack:\", smallest)\n",
    "    else:\n",
    "        print(\"Stack is empty.\")\n",
    "    \n",
    "except ValueError:\n",
    "    print(\"Invalid input. Please enter valid integers for the stack.\")\n"
   ]
  },
  {
   "cell_type": "code",
   "execution_count": null,
   "id": "175844be",
   "metadata": {},
   "outputs": [],
   "source": []
  }
 ],
 "metadata": {
  "kernelspec": {
   "display_name": "Python 3 (ipykernel)",
   "language": "python",
   "name": "python3"
  },
  "language_info": {
   "codemirror_mode": {
    "name": "ipython",
    "version": 3
   },
   "file_extension": ".py",
   "mimetype": "text/x-python",
   "name": "python",
   "nbconvert_exporter": "python",
   "pygments_lexer": "ipython3",
   "version": "3.9.7"
  }
 },
 "nbformat": 4,
 "nbformat_minor": 5
}
