{
 "cells": [
  {
   "cell_type": "code",
   "execution_count": 2,
   "id": "ef53f92b",
   "metadata": {},
   "outputs": [
    {
     "name": "stdout",
     "output_type": "stream",
     "text": [
      "Enter a list of numbers separated by spaces: 4 5 2 9\n",
      "Square of the elements of the list:\n",
      "[16, 25, 4, 81]\n"
     ]
    }
   ],
   "source": [
    "def square(x):\n",
    "    return x ** 2\n",
    "try:\n",
    "    input_list = input(\"Enter a list of numbers separated by spaces: \")\n",
    "    input_list = list(map(int, input_list.split()))\n",
    "    squared_list = list(map(square, input_list))\n",
    "    print(\"Square of the elements of the list:\")\n",
    "    print(squared_list)\n",
    "except ValueError:\n",
    "    print(\"Invalid input. Please enter a valid list of numbers.\")\n"
   ]
  },
  {
   "cell_type": "code",
   "execution_count": null,
   "id": "f1e79c9b",
   "metadata": {},
   "outputs": [],
   "source": []
  }
 ],
 "metadata": {
  "kernelspec": {
   "display_name": "Python 3 (ipykernel)",
   "language": "python",
   "name": "python3"
  },
  "language_info": {
   "codemirror_mode": {
    "name": "ipython",
    "version": 3
   },
   "file_extension": ".py",
   "mimetype": "text/x-python",
   "name": "python",
   "nbconvert_exporter": "python",
   "pygments_lexer": "ipython3",
   "version": "3.9.7"
  }
 },
 "nbformat": 4,
 "nbformat_minor": 5
}
