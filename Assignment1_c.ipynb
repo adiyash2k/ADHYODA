{
 "cells": [
  {
   "cell_type": "code",
   "execution_count": 1,
   "id": "18323834",
   "metadata": {},
   "outputs": [
    {
     "name": "stdout",
     "output_type": "stream",
     "text": [
      "Enter a series of numbers separated by spaces: 1 2 3 4 5 6 7 8 9\n",
      "Number of even numbers:  4\n",
      "Number of odd numbers:  5\n"
     ]
    }
   ],
   "source": [
    "numbers = input(\"Enter a series of numbers separated by spaces: \").split() \n",
    "even_count = 0 \n",
    "odd_count = 0 \n",
    "for num in numbers: \n",
    "    if int(num) % 2 == 0: \n",
    "        even_count += 1 \n",
    "    else: \n",
    "        odd_count += 1 \n",
    "print(\"Number of even numbers: \", even_count) \n",
    "print(\"Number of odd numbers: \", odd_count) "
   ]
  },
  {
   "cell_type": "code",
   "execution_count": null,
   "id": "d1de24a4",
   "metadata": {},
   "outputs": [],
   "source": []
  }
 ],
 "metadata": {
  "kernelspec": {
   "display_name": "Python 3 (ipykernel)",
   "language": "python",
   "name": "python3"
  },
  "language_info": {
   "codemirror_mode": {
    "name": "ipython",
    "version": 3
   },
   "file_extension": ".py",
   "mimetype": "text/x-python",
   "name": "python",
   "nbconvert_exporter": "python",
   "pygments_lexer": "ipython3",
   "version": "3.9.7"
  }
 },
 "nbformat": 4,
 "nbformat_minor": 5
}
