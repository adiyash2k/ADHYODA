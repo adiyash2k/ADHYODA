{
 "cells": [
  {
   "cell_type": "code",
   "execution_count": 1,
   "id": "8719259c",
   "metadata": {},
   "outputs": [
    {
     "name": "stdout",
     "output_type": "stream",
     "text": [
      "Enter a list of integers separated by spaces: 1 2 3 4 5 6 7\n",
      "Triple of list numbers:\n",
      "[3, 6, 9, 12, 15, 18, 21]\n"
     ]
    }
   ],
   "source": [
    "def triple(x):\n",
    "    return x * 3\n",
    "try:\n",
    "    input_list = input(\"Enter a list of integers separated by spaces: \")\n",
    "    input_list = list(map(int, input_list.split()))\n",
    "    tripled_list = list(map(triple, input_list))\n",
    "    print(\"Triple of list numbers:\")\n",
    "    print(tripled_list)\n",
    "except ValueError:\n",
    "    print(\"Invalid input. Please enter a valid list of integers.\")\n"
   ]
  },
  {
   "cell_type": "code",
   "execution_count": null,
   "id": "2dfb1988",
   "metadata": {},
   "outputs": [],
   "source": []
  }
 ],
 "metadata": {
  "kernelspec": {
   "display_name": "Python 3 (ipykernel)",
   "language": "python",
   "name": "python3"
  },
  "language_info": {
   "codemirror_mode": {
    "name": "ipython",
    "version": 3
   },
   "file_extension": ".py",
   "mimetype": "text/x-python",
   "name": "python",
   "nbconvert_exporter": "python",
   "pygments_lexer": "ipython3",
   "version": "3.9.7"
  }
 },
 "nbformat": 4,
 "nbformat_minor": 5
}
