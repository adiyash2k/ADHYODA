{
 "cells": [
  {
   "cell_type": "code",
   "execution_count": 2,
   "id": "5540c639",
   "metadata": {},
   "outputs": [
    {
     "name": "stdout",
     "output_type": "stream",
     "text": [
      "Enter a sorted list of numbers separated by spaces: 1 2 3 4 5 6 7 8 9\n",
      "Enter the number you want to search for: 7\n",
      "Element 7 found at index 6\n"
     ]
    }
   ],
   "source": [
    "#Binary Search:\n",
    "def binary_search(arr, target):\n",
    "    left, right = 0, len(arr) - 1\n",
    "\n",
    "    while left <= right:\n",
    "        mid = left + (right - left) // 2\n",
    "\n",
    "        if arr[mid] == target:\n",
    "            return mid\n",
    "        elif arr[mid] < target:\n",
    "            left = mid + 1\n",
    "        else:\n",
    "            right = mid - 1\n",
    "\n",
    "    return -1\n",
    "\n",
    "# Get user input for the sorted array\n",
    "arr = list(map(int, input(\"Enter a sorted list of numbers separated by spaces: \").split()))\n",
    "target = int(input(\"Enter the number you want to search for: \"))\n",
    "\n",
    "result = binary_search(arr, target)\n",
    "if result != -1:\n",
    "    print(f\"Element {target} found at index {result}\")\n",
    "else:\n",
    "    print(f\"Element {target} not found\")\n"
   ]
  },
  {
   "cell_type": "code",
   "execution_count": 4,
   "id": "6c1271ff",
   "metadata": {},
   "outputs": [
    {
     "name": "stdout",
     "output_type": "stream",
     "text": [
      "Enter a list of numbers separated by spaces: 3 5 1 8 6 9 2\n",
      "Sorted array: [1, 2, 3, 5, 6, 8, 9]\n"
     ]
    }
   ],
   "source": [
    "#Merge Sort:\n",
    "def merge_sort(arr):\n",
    "    if len(arr) <= 1:\n",
    "        return arr\n",
    "\n",
    "    mid = len(arr) // 2\n",
    "    left = arr[:mid]\n",
    "    right = arr[mid:]\n",
    "\n",
    "    left = merge_sort(left)\n",
    "    right = merge_sort(right)\n",
    "\n",
    "    return merge(left, right)\n",
    "\n",
    "def merge(left, right):\n",
    "    result = []\n",
    "    i = j = 0\n",
    "\n",
    "    while i < len(left) and j < len(right):\n",
    "        if left[i] < right[j]:\n",
    "            result.append(left[i])\n",
    "            i += 1\n",
    "        else:\n",
    "            result.append(right[j])\n",
    "            j += 1\n",
    "\n",
    "    result.extend(left[i:])\n",
    "    result.extend(right[j:])\n",
    "    return result\n",
    "\n",
    "# Get user input for the list of numbers\n",
    "arr = list(map(int, input(\"Enter a list of numbers separated by spaces: \").split()))\n",
    "\n",
    "sorted_arr = merge_sort(arr)\n",
    "print(\"Sorted array:\", sorted_arr)\n"
   ]
  },
  {
   "cell_type": "code",
   "execution_count": 7,
   "id": "49bba394",
   "metadata": {},
   "outputs": [
    {
     "name": "stdout",
     "output_type": "stream",
     "text": [
      "Enter a list of numbers separated by spaces: 6 4 8 3 9 2\n",
      "Sorted array: [2, 3, 4, 6, 8, 9]\n"
     ]
    }
   ],
   "source": [
    "#Quick Sort:\n",
    "def quick_sort(arr):\n",
    "    if len(arr) <= 1:\n",
    "        return arr\n",
    "\n",
    "    pivot = arr[len(arr) // 2]\n",
    "    left = [x for x in arr if x < pivot]\n",
    "    middle = [x for x in arr if x == pivot]\n",
    "    right = [x for x in arr if x > pivot]\n",
    "\n",
    "    return quick_sort(left) + middle + quick_sort(right)\n",
    "\n",
    "# Get user input for the list of numbers\n",
    "arr = list(map(int, input(\"Enter a list of numbers separated by spaces: \").split()))\n",
    "\n",
    "sorted_arr = quick_sort(arr)\n",
    "print(\"Sorted array:\", sorted_arr)\n"
   ]
  },
  {
   "cell_type": "code",
   "execution_count": 8,
   "id": "16c45753",
   "metadata": {},
   "outputs": [
    {
     "name": "stdout",
     "output_type": "stream",
     "text": [
      "Enter a list of numbers separated by spaces: 7 2 1 6 3 4\n",
      "Sorted array: [1, 2, 3, 4, 6, 7]\n"
     ]
    }
   ],
   "source": [
    "#Insertion Sort:\n",
    "def insertion_sort(arr):\n",
    "    for i in range(1, len(arr)):\n",
    "        key = arr[i]\n",
    "        j = i - 1\n",
    "        while j >= 0 and key < arr[j]:\n",
    "            arr[j + 1] = arr[j]\n",
    "            j -= 1\n",
    "        arr[j + 1] = key\n",
    "\n",
    "# Get user input for the list of numbers\n",
    "arr = list(map(int, input(\"Enter a list of numbers separated by spaces: \").split()))\n",
    "\n",
    "insertion_sort(arr)\n",
    "print(\"Sorted array:\", arr)\n"
   ]
  },
  {
   "cell_type": "code",
   "execution_count": 10,
   "id": "c5d36485",
   "metadata": {},
   "outputs": [
    {
     "name": "stdout",
     "output_type": "stream",
     "text": [
      "Enter a list of strings (space-separated): 3 1 2 6 7\n",
      "Sorted strings (dictionary-like order): ['1', '2', '3', '6', '7']\n"
     ]
    }
   ],
   "source": [
    "#Sort List of Strings (Dictionary-like):\n",
    "def dictionary_sort(strings):\n",
    "    return sorted(strings, key=lambda x: (len(x), x))\n",
    "\n",
    "# Get user input for a list of strings (space-separated)\n",
    "input_strings = input(\"Enter a list of strings (space-separated): \").split()\n",
    "\n",
    "sorted_strings = dictionary_sort(input_strings)\n",
    "print(\"Sorted strings (dictionary-like order):\", sorted_strings)\n"
   ]
  },
  {
   "cell_type": "code",
   "execution_count": null,
   "id": "63e63907",
   "metadata": {},
   "outputs": [],
   "source": []
  }
 ],
 "metadata": {
  "kernelspec": {
   "display_name": "Python 3 (ipykernel)",
   "language": "python",
   "name": "python3"
  },
  "language_info": {
   "codemirror_mode": {
    "name": "ipython",
    "version": 3
   },
   "file_extension": ".py",
   "mimetype": "text/x-python",
   "name": "python",
   "nbconvert_exporter": "python",
   "pygments_lexer": "ipython3",
   "version": "3.9.7"
  }
 },
 "nbformat": 4,
 "nbformat_minor": 5
}
