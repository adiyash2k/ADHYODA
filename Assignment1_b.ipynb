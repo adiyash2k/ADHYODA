{
 "cells": [
  {
   "cell_type": "code",
   "execution_count": 1,
   "id": "95d5039a",
   "metadata": {},
   "outputs": [
    {
     "name": "stdout",
     "output_type": "stream",
     "text": [
      "Enter a word: Edyoda\n",
      "Reversed word: adoydE\n"
     ]
    }
   ],
   "source": [
    "word = input(\"Enter a word: \")\n",
    "reverse_word = word[::-1]\n",
    "print(\"Reversed word:\", reverse_word)"
   ]
  },
  {
   "cell_type": "code",
   "execution_count": null,
   "id": "436ac429",
   "metadata": {},
   "outputs": [],
   "source": []
  }
 ],
 "metadata": {
  "kernelspec": {
   "display_name": "Python 3 (ipykernel)",
   "language": "python",
   "name": "python3"
  },
  "language_info": {
   "codemirror_mode": {
    "name": "ipython",
    "version": 3
   },
   "file_extension": ".py",
   "mimetype": "text/x-python",
   "name": "python",
   "nbconvert_exporter": "python",
   "pygments_lexer": "ipython3",
   "version": "3.9.7"
  }
 },
 "nbformat": 4,
 "nbformat_minor": 5
}
