{
 "cells": [
  {
   "cell_type": "code",
   "execution_count": 5,
   "id": "937d20ab",
   "metadata": {},
   "outputs": [
    {
     "name": "stdout",
     "output_type": "stream",
     "text": [
      "Enter the tuples as space-separated pairs :\n",
      "2 5 1 2 4 4 2 3 2 1\n",
      "Sorted list:\n",
      "[(2, 1), (1, 2), (2, 3), (4, 4), (2, 5)]\n"
     ]
    }
   ],
   "source": [
    "def sort_by_last_element(tuples_list):\n",
    "    return sorted(tuples_list, key=lambda x: x[-1])\n",
    "print(\"Enter the tuples as space-separated pairs :\")\n",
    "user_input = input()\n",
    "input_list = [tuple(map(int, user_input.split()[i:i+2])) for i in range(0, len(user_input.split()), 2)]\n",
    "result = sort_by_last_element(input_list)\n",
    "print(\"Sorted list:\")\n",
    "print(result)\n"
   ]
  },
  {
   "cell_type": "code",
   "execution_count": null,
   "id": "b72fbc7f",
   "metadata": {},
   "outputs": [],
   "source": []
  }
 ],
 "metadata": {
  "kernelspec": {
   "display_name": "Python 3 (ipykernel)",
   "language": "python",
   "name": "python3"
  },
  "language_info": {
   "codemirror_mode": {
    "name": "ipython",
    "version": 3
   },
   "file_extension": ".py",
   "mimetype": "text/x-python",
   "name": "python",
   "nbconvert_exporter": "python",
   "pygments_lexer": "ipython3",
   "version": "3.9.7"
  }
 },
 "nbformat": 4,
 "nbformat_minor": 5
}
