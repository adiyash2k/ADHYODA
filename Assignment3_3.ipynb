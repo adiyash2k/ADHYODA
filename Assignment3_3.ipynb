{
 "cells": [
  {
   "cell_type": "code",
   "execution_count": 2,
   "id": "e8dba38c",
   "metadata": {},
   "outputs": [
    {
     "name": "stdout",
     "output_type": "stream",
     "text": [
      "Enter a string: Aditya\n",
      "No. of Upper case characters: 1\n",
      "No. of Lower case characters: 5\n"
     ]
    }
   ],
   "source": [
    "def count_upper_lower(input_string):\n",
    "    upper_count = 0\n",
    "    lower_count = 0\n",
    "    for char in input_string:\n",
    "        if char.isupper():\n",
    "            upper_count += 1\n",
    "        elif char.islower():\n",
    "            lower_count += 1\n",
    "    return upper_count, lower_count\n",
    "\n",
    "# Taking user input\n",
    "input_str = input(\"Enter a string: \")\n",
    "\n",
    "upper_chars, lower_chars = count_upper_lower(input_str)\n",
    "print(\"No. of Upper case characters:\", upper_chars)\n",
    "print(\"No. of Lower case characters:\", lower_chars)\n",
    "\n"
   ]
  },
  {
   "cell_type": "code",
   "execution_count": null,
   "id": "ceb2e92b",
   "metadata": {},
   "outputs": [],
   "source": []
  },
  {
   "cell_type": "code",
   "execution_count": null,
   "id": "a48660f6",
   "metadata": {},
   "outputs": [],
   "source": []
  }
 ],
 "metadata": {
  "kernelspec": {
   "display_name": "Python 3 (ipykernel)",
   "language": "python",
   "name": "python3"
  },
  "language_info": {
   "codemirror_mode": {
    "name": "ipython",
    "version": 3
   },
   "file_extension": ".py",
   "mimetype": "text/x-python",
   "name": "python",
   "nbconvert_exporter": "python",
   "pygments_lexer": "ipython3",
   "version": "3.9.7"
  }
 },
 "nbformat": 4,
 "nbformat_minor": 5
}
